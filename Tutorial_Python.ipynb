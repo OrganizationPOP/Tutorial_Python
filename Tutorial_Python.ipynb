{
  "nbformat": 4,
  "nbformat_minor": 0,
  "metadata": {
    "colab": {
      "name": "Tutorial_Python.ipynb",
      "provenance": [],
      "collapsed_sections": [
        "vuozV_c4BhoL",
        "l1gK6BCsBtUs",
        "t7IsVdQeB_Oc",
        "Fw0CKn_vCFuU",
        "mdMDb_HrCzyn",
        "CYG69AJn8Q16"
      ],
      "include_colab_link": true
    },
    "kernelspec": {
      "name": "python3",
      "display_name": "Python 3"
    }
  },
  "cells": [
    {
      "cell_type": "markdown",
      "metadata": {
        "id": "view-in-github",
        "colab_type": "text"
      },
      "source": [
        "<a href=\"https://colab.research.google.com/github/OrganizationPOP/Tutorial_Python/blob/main/Tutorial_Python.ipynb\" target=\"_parent\"><img src=\"https://colab.research.google.com/assets/colab-badge.svg\" alt=\"Open In Colab\"/></a>"
      ]
    },
    {
      "cell_type": "code",
      "metadata": {
        "id": "3iwR28xlsVpA",
        "outputId": "6a438d12-3f86-4742-dea8-f671aca7e7b9",
        "colab": {
          "base_uri": "https://localhost:8080/",
          "height": 35
        }
      },
      "source": [
        "print(\"Hello, world\")"
      ],
      "execution_count": null,
      "outputs": [
        {
          "output_type": "stream",
          "text": [
            "Hello, world\n"
          ],
          "name": "stdout"
        }
      ]
    },
    {
      "cell_type": "markdown",
      "metadata": {
        "id": "vuozV_c4BhoL"
      },
      "source": [
        "# Zmienne\n"
      ]
    },
    {
      "cell_type": "code",
      "metadata": {
        "id": "_DKyCXBhfDqN"
      },
      "source": [
        "x = \"Hello, world\""
      ],
      "execution_count": null,
      "outputs": []
    },
    {
      "cell_type": "code",
      "metadata": {
        "id": "c32neGCzfRJx",
        "outputId": "44a3264e-d97f-4679-dd0b-68bc7b29656b",
        "colab": {
          "base_uri": "https://localhost:8080/",
          "height": 35
        }
      },
      "source": [
        "print(x)"
      ],
      "execution_count": null,
      "outputs": [
        {
          "output_type": "stream",
          "text": [
            "Hello, world\n"
          ],
          "name": "stdout"
        }
      ]
    },
    {
      "cell_type": "code",
      "metadata": {
        "id": "4HbmdR43fXL5"
      },
      "source": [
        "x = 5"
      ],
      "execution_count": null,
      "outputs": []
    },
    {
      "cell_type": "code",
      "metadata": {
        "id": "BvkW3wgZfo6Q",
        "outputId": "28324197-0166-4c82-ef4f-634783028e18",
        "colab": {
          "base_uri": "https://localhost:8080/",
          "height": 35
        }
      },
      "source": [
        "print(x)"
      ],
      "execution_count": null,
      "outputs": [
        {
          "output_type": "stream",
          "text": [
            "5\n"
          ],
          "name": "stdout"
        }
      ]
    },
    {
      "cell_type": "code",
      "metadata": {
        "id": "UPqNiDAMfe0A"
      },
      "source": [
        "y = \"5\""
      ],
      "execution_count": null,
      "outputs": []
    },
    {
      "cell_type": "code",
      "metadata": {
        "id": "sX78VZERfpM4",
        "outputId": "d7131770-5d69-4104-a488-37d90b03d706",
        "colab": {
          "base_uri": "https://localhost:8080/",
          "height": 35
        }
      },
      "source": [
        "print(y)"
      ],
      "execution_count": null,
      "outputs": [
        {
          "output_type": "stream",
          "text": [
            "5\n"
          ],
          "name": "stdout"
        }
      ]
    },
    {
      "cell_type": "code",
      "metadata": {
        "id": "_LfN4fbRhcMw"
      },
      "source": [
        "# print(x + y)  # błąd"
      ],
      "execution_count": null,
      "outputs": []
    },
    {
      "cell_type": "code",
      "metadata": {
        "id": "VUZ55ubRffI5",
        "outputId": "261a9dfa-3cf1-4bf4-e279-3d42fe6c663d",
        "colab": {
          "base_uri": "https://localhost:8080/",
          "height": 35
        }
      },
      "source": [
        "print(x + int(y))"
      ],
      "execution_count": null,
      "outputs": [
        {
          "output_type": "stream",
          "text": [
            "10\n"
          ],
          "name": "stdout"
        }
      ]
    },
    {
      "cell_type": "code",
      "metadata": {
        "id": "yYx8Sbx4hNcv",
        "outputId": "b2142521-3cf3-4f0a-d67b-7d931dceee42",
        "colab": {
          "base_uri": "https://localhost:8080/",
          "height": 35
        }
      },
      "source": [
        "print(str(x) + y)"
      ],
      "execution_count": null,
      "outputs": [
        {
          "output_type": "stream",
          "text": [
            "55\n"
          ],
          "name": "stdout"
        }
      ]
    },
    {
      "cell_type": "markdown",
      "metadata": {
        "id": "l1gK6BCsBtUs"
      },
      "source": [
        "# input() --> pozwala użytkownikowi wprowadzić dane"
      ]
    },
    {
      "cell_type": "code",
      "metadata": {
        "id": "kkkKVPhjgOhp",
        "outputId": "07361b40-c969-4ada-ac4c-a3eb68b0457c",
        "colab": {
          "base_uri": "https://localhost:8080/",
          "height": 35
        }
      },
      "source": [
        "x = input()"
      ],
      "execution_count": null,
      "outputs": [
        {
          "output_type": "stream",
          "text": [
            "4\n"
          ],
          "name": "stdout"
        }
      ]
    },
    {
      "cell_type": "code",
      "metadata": {
        "id": "32ScToNbgXMw",
        "outputId": "2fec68eb-ac98-4f3f-b373-8f95d77a5226",
        "colab": {
          "base_uri": "https://localhost:8080/",
          "height": 35
        }
      },
      "source": [
        "wiek = int(input(\"Wpisz swój wiek: \"))"
      ],
      "execution_count": null,
      "outputs": [
        {
          "output_type": "stream",
          "text": [
            "Wpisz swój wiek: 5\n"
          ],
          "name": "stdout"
        }
      ]
    },
    {
      "cell_type": "code",
      "metadata": {
        "id": "h2mZufZ1gxx2",
        "outputId": "bd2107a9-ad19-4df8-974c-580d804acc7d",
        "colab": {
          "base_uri": "https://localhost:8080/",
          "height": 35
        }
      },
      "source": [
        "rok = int(input(\"Mamy rok: \"))"
      ],
      "execution_count": null,
      "outputs": [
        {
          "output_type": "stream",
          "text": [
            "Mamy rok: 2020\n"
          ],
          "name": "stdout"
        }
      ]
    },
    {
      "cell_type": "code",
      "metadata": {
        "id": "JB5Ncy9pgifH",
        "outputId": "42a025f3-54b8-4759-9586-351f69f85e93",
        "colab": {
          "base_uri": "https://localhost:8080/",
          "height": 35
        }
      },
      "source": [
        "rok_ur = rok - wiek\n",
        "print(\"Urodziłeś się w \" + str(rok_ur))"
      ],
      "execution_count": null,
      "outputs": [
        {
          "output_type": "stream",
          "text": [
            "Urodziłeś się w 2015\n"
          ],
          "name": "stdout"
        }
      ]
    },
    {
      "cell_type": "markdown",
      "metadata": {
        "id": "t7IsVdQeB_Oc"
      },
      "source": [
        "# Instrukcje warunkowe if"
      ]
    },
    {
      "cell_type": "code",
      "metadata": {
        "id": "Mp9Efl2ah8ly",
        "outputId": "6c89e28c-7cb0-4bf8-9251-6f48c1d1aa02",
        "colab": {
          "base_uri": "https://localhost:8080/",
          "height": 35
        }
      },
      "source": [
        "if wiek >= 35:\n",
        "  print(\"Możesz zostać prezydentem\")\n",
        "elif wiek >= 18:\n",
        "  print(\"Jesteś dorosły\")\n",
        "else:\n",
        "  print(\"Nie jesteś dorosły\")"
      ],
      "execution_count": null,
      "outputs": [
        {
          "output_type": "stream",
          "text": [
            "Nie jesteś dorosły\n"
          ],
          "name": "stdout"
        }
      ]
    },
    {
      "cell_type": "code",
      "metadata": {
        "id": "ycu7AqPWjLN9"
      },
      "source": [
        "if wiek >= 35 :\n",
        "  print(\"Możesz zostać prezydentem\")\n",
        "if wiek >= 18:\n",
        "  print(\"Jesteś dorosły\")"
      ],
      "execution_count": null,
      "outputs": []
    },
    {
      "cell_type": "code",
      "metadata": {
        "id": "9qVVjTUxjtON"
      },
      "source": [
        "if wiek >= 35:\n",
        "  print(\"Możesz zostać prezydentem\")\n",
        "if wiek >= 18 and wiek < 35:\n",
        "  print(\"Jesteś dorosły\")"
      ],
      "execution_count": null,
      "outputs": []
    },
    {
      "cell_type": "code",
      "metadata": {
        "id": "UfPy7ihrkCys",
        "outputId": "b876f61e-673d-4d2e-8e27-e1511f949d90",
        "colab": {
          "base_uri": "https://localhost:8080/",
          "height": 35
        }
      },
      "source": [
        "if wiek >= 18 or rok_ur <= 2002:\n",
        "  print(\"Jesteś dorosły\")\n",
        "else:\n",
        "  print(\"Nie jesteś dorosły\")"
      ],
      "execution_count": null,
      "outputs": [
        {
          "output_type": "stream",
          "text": [
            "Nie jesteś dorosły\n"
          ],
          "name": "stdout"
        }
      ]
    },
    {
      "cell_type": "markdown",
      "metadata": {
        "id": "Fw0CKn_vCFuU"
      },
      "source": [
        "# Pętle for i while"
      ]
    },
    {
      "cell_type": "code",
      "metadata": {
        "id": "FB3OVMiAshLD",
        "outputId": "2307f58f-3a80-4266-ccf2-d90be3aef3f5",
        "colab": {
          "base_uri": "https://localhost:8080/",
          "height": 109
        }
      },
      "source": [
        "for x in range(5):\n",
        "  print(x)"
      ],
      "execution_count": null,
      "outputs": [
        {
          "output_type": "stream",
          "text": [
            "0\n",
            "1\n",
            "2\n",
            "3\n",
            "4\n"
          ],
          "name": "stdout"
        }
      ]
    },
    {
      "cell_type": "code",
      "metadata": {
        "id": "tHlr6HOwgCnY",
        "outputId": "657d4698-d4e1-4bc4-8b45-5152a6e25c7d",
        "colab": {
          "base_uri": "https://localhost:8080/",
          "height": 90
        }
      },
      "source": [
        "for x in range(1,5):\n",
        "  print(x)"
      ],
      "execution_count": null,
      "outputs": [
        {
          "output_type": "stream",
          "text": [
            "1\n",
            "2\n",
            "3\n",
            "4\n"
          ],
          "name": "stdout"
        }
      ]
    },
    {
      "cell_type": "code",
      "metadata": {
        "id": "T0X2wM_Cf9pY",
        "outputId": "bf4798c4-3973-4b48-eedc-31c55768c71d",
        "colab": {
          "base_uri": "https://localhost:8080/",
          "height": 109
        }
      },
      "source": [
        "licznik = 0\n",
        "\n",
        "while licznik < 5:\n",
        "  print(licznik)\n",
        "  licznik += 1"
      ],
      "execution_count": null,
      "outputs": [
        {
          "output_type": "stream",
          "text": [
            "0\n",
            "1\n",
            "2\n",
            "3\n",
            "4\n"
          ],
          "name": "stdout"
        }
      ]
    },
    {
      "cell_type": "code",
      "metadata": {
        "id": "6LcalaErkuVF",
        "outputId": "db0f8bbb-31d6-4804-b3f2-f0fc43aae1de",
        "colab": {
          "base_uri": "https://localhost:8080/",
          "height": 127
        }
      },
      "source": [
        "licznik = 0\n",
        "while True:\n",
        "  print(licznik)\n",
        "  licznik += 1\n",
        "  if licznik > 5:\n",
        "    break"
      ],
      "execution_count": null,
      "outputs": [
        {
          "output_type": "stream",
          "text": [
            "0\n",
            "1\n",
            "2\n",
            "3\n",
            "4\n",
            "5\n"
          ],
          "name": "stdout"
        }
      ]
    },
    {
      "cell_type": "code",
      "metadata": {
        "id": "i6T5uctXk7iD",
        "outputId": "00298e8c-c281-4a1a-d96d-7435ab514343",
        "colab": {
          "base_uri": "https://localhost:8080/",
          "height": 109
        }
      },
      "source": [
        "for x in range(10):\n",
        "    if x % 2 == 0:\n",
        "        continue\n",
        "    print(x)"
      ],
      "execution_count": null,
      "outputs": [
        {
          "output_type": "stream",
          "text": [
            "1\n",
            "3\n",
            "5\n",
            "7\n",
            "9\n"
          ],
          "name": "stdout"
        }
      ]
    },
    {
      "cell_type": "code",
      "metadata": {
        "id": "jBJPkMlolQ3S",
        "outputId": "f22003a4-ca75-45d3-8e15-c8f0cf7cac13",
        "colab": {
          "base_uri": "https://localhost:8080/",
          "height": 127
        }
      },
      "source": [
        "koniec = True\n",
        "licznik = 0\n",
        "\n",
        "while koniec:\n",
        "  print(licznik)\n",
        "  licznik += 1\n",
        "  if licznik > 5:\n",
        "    koniec = False"
      ],
      "execution_count": null,
      "outputs": [
        {
          "output_type": "stream",
          "text": [
            "0\n",
            "1\n",
            "2\n",
            "3\n",
            "4\n",
            "5\n"
          ],
          "name": "stdout"
        }
      ]
    },
    {
      "cell_type": "markdown",
      "metadata": {
        "id": "mdMDb_HrCzyn"
      },
      "source": [
        "# Biblioteka random"
      ]
    },
    {
      "cell_type": "code",
      "metadata": {
        "id": "vJjybHUKnE45",
        "outputId": "51bfd8e3-b6a6-49a7-c476-2399568669f3",
        "colab": {
          "base_uri": "https://localhost:8080/",
          "height": 36
        }
      },
      "source": [
        "import random\n",
        "\n",
        "liczba = random.random()\n",
        "print(liczba)"
      ],
      "execution_count": null,
      "outputs": [
        {
          "output_type": "stream",
          "text": [
            "0.33059147671103617\n"
          ],
          "name": "stdout"
        }
      ]
    },
    {
      "cell_type": "code",
      "metadata": {
        "id": "-oAqZgjdnv5g",
        "outputId": "d36e36b7-0c4b-404a-997b-b3fa89bd2aea",
        "colab": {
          "base_uri": "https://localhost:8080/",
          "height": 36
        }
      },
      "source": [
        "import random\n",
        "\n",
        "liczba = random.randint(1, 100)\n",
        "print(liczba)"
      ],
      "execution_count": null,
      "outputs": [
        {
          "output_type": "stream",
          "text": [
            "90\n"
          ],
          "name": "stdout"
        }
      ]
    },
    {
      "cell_type": "code",
      "metadata": {
        "id": "jSkll233n_Pf",
        "outputId": "64943bd2-6fab-449b-a628-0381864a5385",
        "colab": {
          "base_uri": "https://localhost:8080/",
          "height": 76
        }
      },
      "source": [
        "import random\n",
        "\n",
        "liczba = random.random()\n",
        "print(liczba)\n",
        "liczba *= 100\n",
        "print(liczba)\n",
        "print(round(liczba))"
      ],
      "execution_count": null,
      "outputs": [
        {
          "output_type": "stream",
          "text": [
            "0.48031934409356214\n",
            "48.03193440935621\n",
            "48\n"
          ],
          "name": "stdout"
        }
      ]
    },
    {
      "cell_type": "code",
      "metadata": {
        "id": "GTSIHYQkBEFV",
        "outputId": "35e6f56f-ffdc-4501-ad28-3a87f3b38b40",
        "colab": {
          "base_uri": "https://localhost:8080/",
          "height": 36
        }
      },
      "source": [
        "print(\"AVfgg\".lower())"
      ],
      "execution_count": null,
      "outputs": [
        {
          "output_type": "stream",
          "text": [
            "avfgg\n"
          ],
          "name": "stdout"
        }
      ]
    },
    {
      "cell_type": "code",
      "metadata": {
        "id": "P55vSE05lRo2",
        "outputId": "7402218e-baba-4451-c040-a82a1a2e9685",
        "colab": {
          "base_uri": "https://localhost:8080/",
          "height": 36
        }
      },
      "source": [
        "print(\"AVfgg\".upper())"
      ],
      "execution_count": null,
      "outputs": [
        {
          "output_type": "stream",
          "text": [
            "AVFGG\n"
          ],
          "name": "stdout"
        }
      ]
    },
    {
      "cell_type": "code",
      "metadata": {
        "id": "MxEdi6sXkTHV",
        "outputId": "4bfe0a76-c56e-4f42-ff13-83f1c724f192",
        "colab": {
          "base_uri": "https://localhost:8080/",
          "height": 115
        }
      },
      "source": [
        "x = 10\n",
        "\n",
        "while x > 0:\n",
        "  x -= 1\n",
        "  if x % 2 == 0:  # jesli liczba jest parzysta, nie printujemy\n",
        "    continue\n",
        "  print(x)\n"
      ],
      "execution_count": null,
      "outputs": [
        {
          "output_type": "stream",
          "text": [
            "9\n",
            "7\n",
            "5\n",
            "3\n",
            "1\n"
          ],
          "name": "stdout"
        }
      ]
    },
    {
      "cell_type": "markdown",
      "metadata": {
        "id": "CYG69AJn8Q16"
      },
      "source": [
        "# Zadanie\n",
        "\n",
        "Napisać program, który losuje liczbę z przedziału 1-100, a użytkownik ma zgadnąć szukaną liczbę."
      ]
    },
    {
      "cell_type": "code",
      "metadata": {
        "id": "CEWT9teMFeO4",
        "outputId": "6c3d6c25-25b0-4af6-e519-5646c6f37987",
        "colab": {
          "base_uri": "https://localhost:8080/",
          "height": 393
        }
      },
      "source": [
        "import random\n",
        "\n",
        "while True:\n",
        "  wylosowana_liczba = random.randint(1,100)\n",
        "  licznik = 1\n",
        "\n",
        "  while True:\n",
        "    liczba = int(input(\"Zgadnij liczbe: \"))\n",
        "\n",
        "    if wylosowana_liczba == liczba:\n",
        "      print(f\"Gratulacje! Udało Ci się zgadnąć za \"+str(licznik)+\" razem.\")\n",
        "      break\n",
        "    elif liczba < wylosowana_liczba:\n",
        "      print(\"Szukana liczba jest większa\")\n",
        "    else:\n",
        "      print(\"Szukana liczba jest mniejsza\")\n",
        "    licznik += 1\n",
        "\n",
        "  odpowiedz = input(\"Czy chcesz zagrać jeszcze raz? (tak/nie)\")\n",
        "  if odpowiedz.lower() == \"tak\":\n",
        "    continue\n",
        "  else:\n",
        "    break\n"
      ],
      "execution_count": null,
      "outputs": [
        {
          "output_type": "stream",
          "text": [
            "Zgadnij liczbe: 50\n",
            "Szukana liczba jest mniejsza\n",
            "Zgadnij liczbe: 25\n",
            "Szukana liczba jest większa\n",
            "Zgadnij liczbe: 34\n",
            "Szukana liczba jest większa\n",
            "Zgadnij liczbe: 40\n",
            "Szukana liczba jest mniejsza\n",
            "Zgadnij liczbe: 38\n",
            "Gratulacje! Udało Ci się zgadnąć za 5 razem.\n",
            "Czy chcesz zagrać jeszcze raz? (tak/nie)TAK\n",
            "Zgadnij liczbe: 45\n",
            "Szukana liczba jest większa\n",
            "Zgadnij liczbe: 79\n",
            "Szukana liczba jest większa\n",
            "Zgadnij liczbe: 90\n",
            "Szukana liczba jest większa\n",
            "Zgadnij liczbe: 95\n",
            "Gratulacje! Udało Ci się zgadnąć za 4 razem.\n",
            "Czy chcesz zagrać jeszcze raz? (tak/nie)ndhjy\n"
          ],
          "name": "stdout"
        }
      ]
    },
    {
      "cell_type": "markdown",
      "metadata": {
        "id": "mTF-EUznAlDD"
      },
      "source": [
        "# Funkcje w Pythonie"
      ]
    },
    {
      "cell_type": "code",
      "metadata": {
        "id": "50aIPSYr7dqs",
        "outputId": "9ceed8ef-2e96-4fe0-f64a-4b2ce2cffe1d",
        "colab": {
          "base_uri": "https://localhost:8080/",
          "height": 115
        }
      },
      "source": [
        "def dodawanie(a,b):\n",
        "  return a + b\n",
        "\n",
        "# wywołania funkcji:\n",
        "\n",
        "print(dodawanie(11,5))\n",
        "print(dodawanie(-40,5))\n",
        "print(dodawanie(\"11\",\"5\"))  # wynikiem jest też string\n",
        "print(dodawanie(True,True))\n",
        "print(dodawanie(True,False))  # True ma wartość 1, a False 0"
      ],
      "execution_count": null,
      "outputs": [
        {
          "output_type": "stream",
          "text": [
            "16\n",
            "-35\n",
            "115\n",
            "2\n",
            "1\n"
          ],
          "name": "stdout"
        }
      ]
    },
    {
      "cell_type": "markdown",
      "metadata": {
        "id": "k7XM_R8LSQ1v"
      },
      "source": [
        "# Listy"
      ]
    },
    {
      "cell_type": "markdown",
      "metadata": {
        "id": "Im4vn0gcUn9-"
      },
      "source": [
        "Listy służą do prechowywania większej ilości danych. Możemy przez nie przechodzić (iterować) np w poszukiwaniu jakiś danych, modyfikować itp.\n",
        "\n",
        "W innych jezykach odpowiedniki list nazywamy tablicami."
      ]
    },
    {
      "cell_type": "markdown",
      "metadata": {
        "id": "ZAT31nBJT_fn"
      },
      "source": [
        "Przykłady list w Pythonie"
      ]
    },
    {
      "cell_type": "code",
      "metadata": {
        "id": "aa84WfL-SVJH"
      },
      "source": [
        "list_a = [11, 2, 6, 23, 58, 100]"
      ],
      "execution_count": null,
      "outputs": []
    },
    {
      "cell_type": "markdown",
      "metadata": {
        "id": "uJYBQTYbTie4"
      },
      "source": [
        "Przechodzimy (iterujemy) przez kolejne elementy w liście:"
      ]
    },
    {
      "cell_type": "code",
      "metadata": {
        "id": "RM7d-XNkTQqT",
        "outputId": "32cdfd9a-90b9-4a52-c6ea-831c896106cc",
        "colab": {
          "base_uri": "https://localhost:8080/",
          "height": 134
        }
      },
      "source": [
        "for element in list_a:  # zamiast zmiennej element możemy wpisać cokolwiek chcemy, ona przechowuje aktualny element listy\n",
        "  print(element)"
      ],
      "execution_count": null,
      "outputs": [
        {
          "output_type": "stream",
          "text": [
            "11\n",
            "2\n",
            "6\n",
            "23\n",
            "58\n",
            "100\n"
          ],
          "name": "stdout"
        }
      ]
    },
    {
      "cell_type": "code",
      "metadata": {
        "id": "t82sNNqMTv8_",
        "outputId": "e3dbc188-63d3-468b-cacb-8eefa03a250b",
        "colab": {
          "base_uri": "https://localhost:8080/",
          "height": 134
        }
      },
      "source": [
        "for x in list_a:  # to samo co wyżej, tylko zmieniliśmy nazwę zmiennej, żeby pokazać, że nie ma ona znaczenia\n",
        "  print(x)"
      ],
      "execution_count": null,
      "outputs": [
        {
          "output_type": "stream",
          "text": [
            "11\n",
            "2\n",
            "6\n",
            "23\n",
            "58\n",
            "100\n"
          ],
          "name": "stdout"
        }
      ]
    },
    {
      "cell_type": "markdown",
      "metadata": {
        "id": "AutOQs3FV_R5"
      },
      "source": [
        "Listy indeksujemy od 0, czyli np w liście list_b pierwszy element (\"abcd\") będzie miał ideks 0, drugi element (111) indeks 1 itd.\n",
        "\n",
        "Ostatni element w liście znajduje"
      ]
    },
    {
      "cell_type": "code",
      "metadata": {
        "id": "FuQTeUXXT6Ht",
        "outputId": "0e6ecda4-454e-4c43-d6e0-3979a1dd188a",
        "colab": {
          "base_uri": "https://localhost:8080/",
          "height": 36
        }
      },
      "source": [
        "list_b = [\"abcd\", 111, True, False]  # W Pythonie listy mogą zawierać różne typy danych\n",
        "# indeksy:   0     1     2     3"
      ],
      "execution_count": null,
      "outputs": [
        {
          "output_type": "stream",
          "text": [
            "111\n"
          ],
          "name": "stdout"
        }
      ]
    },
    {
      "cell_type": "markdown",
      "metadata": {
        "id": "y1Z5kDMyYVHx"
      },
      "source": [
        "Odwołanie do konkretnego elementu listy po indeksie"
      ]
    },
    {
      "cell_type": "code",
      "metadata": {
        "id": "d5KkfrM-YYdb",
        "outputId": "42dd7a5e-009a-40f1-afc5-e283bcfe7d7e",
        "colab": {
          "base_uri": "https://localhost:8080/",
          "height": 36
        }
      },
      "source": [
        "print(list_b[1])"
      ],
      "execution_count": null,
      "outputs": [
        {
          "output_type": "stream",
          "text": [
            "111\n"
          ],
          "name": "stdout"
        }
      ]
    },
    {
      "cell_type": "markdown",
      "metadata": {
        "id": "Zh27EXDEXHmY"
      },
      "source": [
        "Możemy łatwo sprawdzić długość listy"
      ]
    },
    {
      "cell_type": "code",
      "metadata": {
        "id": "nmr-lwDWXN4I",
        "outputId": "17d689a7-e9f7-45e6-e668-e551503a20ad",
        "colab": {
          "base_uri": "https://localhost:8080/",
          "height": 36
        }
      },
      "source": [
        "print(len(list_b))"
      ],
      "execution_count": null,
      "outputs": [
        {
          "output_type": "execute_result",
          "data": {
            "text/plain": [
              "4"
            ]
          },
          "metadata": {
            "tags": []
          },
          "execution_count": 11
        }
      ]
    },
    {
      "cell_type": "markdown",
      "metadata": {
        "id": "4nulszvOXSRt"
      },
      "source": [
        "Dlatego też w każdej liście indeks ostatniego elementu będzie o 1 mniejszy niż liczba elementów w liście."
      ]
    },
    {
      "cell_type": "markdown",
      "metadata": {
        "id": "YrErYyRcXvYv"
      },
      "source": [
        "iteracja przez kolejne indeksy w liście:\n",
        "\n",
        "--> Dodajemy range, czyli zakres przez jaki chcem przechodzić, w tym wypadku jest to długość listy"
      ]
    },
    {
      "cell_type": "code",
      "metadata": {
        "id": "gq1MWlN2X1Ya",
        "outputId": "874ab6d9-d326-4de2-914c-405c7d544878",
        "colab": {
          "base_uri": "https://localhost:8080/",
          "height": 95
        }
      },
      "source": [
        "for index in range(len(list_b)):\n",
        "  print(index, list_b[index])"
      ],
      "execution_count": null,
      "outputs": [
        {
          "output_type": "stream",
          "text": [
            "0 abcd\n",
            "1 111\n",
            "2 True\n",
            "3 False\n"
          ],
          "name": "stdout"
        }
      ]
    },
    {
      "cell_type": "markdown",
      "metadata": {
        "id": "jf-izM2TUK3P"
      },
      "source": [
        "Listy możemy modyfikować, więc możemy zrobić np"
      ]
    },
    {
      "cell_type": "code",
      "metadata": {
        "id": "HDiW3Cn-YlR6",
        "outputId": "ecd89319-dfaa-4807-ea92-f99fcd6f02b9",
        "colab": {
          "base_uri": "https://localhost:8080/",
          "height": 36
        }
      },
      "source": [
        " list_b[3] = 123\n",
        "\n",
        " print(list_b)"
      ],
      "execution_count": null,
      "outputs": [
        {
          "output_type": "stream",
          "text": [
            "['abcd', 111, True, 123]\n"
          ],
          "name": "stdout"
        }
      ]
    },
    {
      "cell_type": "markdown",
      "metadata": {
        "id": "a7sP1k58Yxvr"
      },
      "source": [
        "# Żółwik"
      ]
    },
    {
      "cell_type": "markdown",
      "metadata": {
        "id": "0vwjpyKkY9xs"
      },
      "source": [
        "Tu jest kod z dzisiejszych zajęć, ale go zakomentowałam bo tutaj w Colabie nie działa i wyrzuca błędy"
      ]
    },
    {
      "cell_type": "markdown",
      "metadata": {
        "id": "lHIIzd36Zg0l"
      },
      "source": [
        "PROTIP!\n",
        "\n",
        "Żeby szybko zakomentować/odkomentować kod zaznaczamy fragment i klikamy ctrl + /"
      ]
    },
    {
      "cell_type": "code",
      "metadata": {
        "id": "0hKiqBLEY47e"
      },
      "source": [
        "# import turtle\n",
        "\n",
        "\n",
        "# sam = turtle.Turtle()\n",
        "# sam.shape(\"turtle\")\n",
        "# sam.pen(pencolor=\"purple\", fillcolor=\"orange\", pensize=10)\n",
        "\n",
        "\n",
        "# 1) Skręt\n",
        "# sam.forward(300)\n",
        "# sam.left(90)\n",
        "# sam.forward(300)\n",
        "\n",
        "\n",
        "\n",
        "# 2) Kwadracik:\n",
        "# for i in range(4):\n",
        "#     sam.forward(300)\n",
        "#     sam.left(90)\n",
        "\n",
        "\n",
        "# 3) jeśli chcecie pokolorować figurę dodajecie sam.begin_fill() przed rozpoczęciem rysowania i sam.end_fill() po skonczeniu\n",
        "# sam.begin_fill()\n",
        "# sam.circle(100)\n",
        "# sam.end_fill()\n",
        "\n",
        "\n",
        "# + jakiś fajny dodatkowy przykład:\n",
        "\n",
        "# for i in range(50):\n",
        "#     sam.forward(100)\n",
        "#     sam.left(123)\n",
        "\n",
        "\n",
        "\n",
        "# turtle.Screen().exitonclick() # --> Potrzebne żeby okno się nie zamykało"
      ],
      "execution_count": null,
      "outputs": []
    },
    {
      "cell_type": "markdown",
      "metadata": {
        "id": "_ywR1zgccdio"
      },
      "source": [
        "# Obiektowość"
      ]
    },
    {
      "cell_type": "markdown",
      "metadata": {
        "id": "gSWfcLDdeXMV"
      },
      "source": [
        "Klasa jest szablonem, na podstawie którego możemy tworzyć obiekty, np stworzyliśmy obiekty drzwi_1 oraz drzwi_2 na podstawie klasy Drzwi, jednak każde z nich ma swoje indywidualne parametry.\n",
        "\n",
        "\n",
        "Możemy tworzyć dowolną ilość obiektów na podstawie danej klasy, co może nam oszczędzić bardzo dużo zbędnych linijek kodu, bo nie musimy za każdym razem przypisywać danych cech nowych obiektów ręcznie. Wystarczy, że podamy je w nawiasach a obiekt \"sam się stworzy\"."
      ]
    },
    {
      "cell_type": "markdown",
      "metadata": {
        "id": "7gWbHtzefi2U"
      },
      "source": [
        "Do konkretnych atrybutów/metod danego obiektu odwołujemy się po kropce"
      ]
    },
    {
      "cell_type": "code",
      "metadata": {
        "id": "wGxpgQyBY1PX",
        "outputId": "e3f2082f-9609-4e23-fbc8-791c1ed82e95",
        "colab": {
          "base_uri": "https://localhost:8080/",
          "height": 154
        }
      },
      "source": [
        "class Drzwi:\n",
        "    def __init__(self, wysokosc, szerokosc):  # konstruktor, w obrębiej tej funkcji inicjalizujemy atrybuty charakterystyczne dla klasy\n",
        "        self.szer = szerokosc\n",
        "        self.wys = wysokosc\n",
        "        self.pole = szerokosc * wysokosc\n",
        "\n",
        "    def przywitaj_się(self):\n",
        "      return f\"Czesc, moje pole powierzchni wynosi {self.pole}\"\n",
        "\n",
        "\n",
        "drzwi_1 = Drzwi(10, 5)\n",
        "\n",
        "print(\"Drzwi 1:\")\n",
        "print(drzwi_1.pole, drzwi_1.szer, drzwi_1.wys)\n",
        "print(drzwi_1.przywitaj_się())\n",
        "\n",
        "\n",
        "print(\"\\nDrzwi 2:\")\n",
        "drzwi_2 = Drzwi(200, 50)\n",
        "\n",
        "print(drzwi_2.pole, drzwi_2.szer, drzwi_2.wys)\n",
        "print(drzwi_2.przywitaj_się())\n"
      ],
      "execution_count": null,
      "outputs": [
        {
          "output_type": "stream",
          "text": [
            "Drzwi 1:\n",
            "50 5 10\n",
            "Czesc, moje pole powierzchni wynosi 50\n",
            "\n",
            "Drzwi 2:\n",
            "10000 50 200\n",
            "Czesc, moje pole powierzchni wynosi 10000\n"
          ],
          "name": "stdout"
        }
      ]
    },
    {
      "cell_type": "markdown",
      "metadata": {
        "id": "7R_g1kdRgoZt"
      },
      "source": [
        "# Tkinter okno graficzne"
      ]
    },
    {
      "cell_type": "markdown",
      "metadata": {
        "id": "fJow3UV9g0_D"
      },
      "source": [
        "Proces tworzenia tej aplikacji jest opisany na skanach książki, które Wam przesłałam"
      ]
    },
    {
      "cell_type": "markdown",
      "metadata": {
        "id": "4Wrtweeo1xLL"
      },
      "source": [
        "Tkinter tak samo w Colabie nie działa"
      ]
    },
    {
      "cell_type": "code",
      "metadata": {
        "id": "B8Rj82ECY7LM",
        "outputId": "bc4db607-6c03-41c1-ea42-4c7baeeeeddd",
        "colab": {
          "base_uri": "https://localhost:8080/",
          "height": 259
        }
      },
      "source": [
        "from tkinter import *\n",
        "from tkinter.ttk import *\n",
        "import random\n",
        "\n",
        "okno = Tk()\n",
        "okno.title(\"Wybierz przycisk\")\n",
        "okno.geometry(\"300x350\")\n",
        "liczba_przyciskow = 8\n",
        "przyciski = []\n",
        "\n",
        "\n",
        "def restart():\n",
        "    etykieta.destroy()\n",
        "    wstaw_przyciski()\n",
        "\n",
        "\n",
        "def pudlo():\n",
        "    for i in przyciski:\n",
        "        i.destroy()\n",
        "    global etykieta\n",
        "    etykieta = Label(okno, text=\"Trafiłeś w zły przycisk!\")\n",
        "    etykieta.pack(fill=BOTH, expand=YES)\n",
        "    okno.after(3000, restart)\n",
        "\n",
        "\n",
        "def trafiony():\n",
        "    for i in przyciski:\n",
        "        i.destroy()\n",
        "    global etykieta\n",
        "    etykieta = Label(okno, text=\"Trafiłeś dobry przycisk!\")\n",
        "    etykieta.pack(fill=BOTH, expand=YES)\n",
        "    okno.after(3000, restart)\n",
        "\n",
        "\n",
        "def wstaw_przyciski():\n",
        "    dobry_przycisk = random.randint(0, liczba_przyciskow-1)\n",
        "    for i in range(liczba_przyciskow):\n",
        "        if i == dobry_przycisk:\n",
        "            przyciski.append(Button(okno, text=\"Kliknij mnie8\", command=trafiony))\n",
        "        else:\n",
        "            przyciski.append(Button(okno, text=\"Kliknij mnie\", command=pudlo))\n",
        "    for j in przyciski:\n",
        "        j.pack(fill=BOTH, expand=YES)\n",
        "\n",
        "\n",
        "wstaw_przyciski()\n",
        "okno.mainloop()  # uruchomienie pętli\n"
      ],
      "execution_count": null,
      "outputs": [
        {
          "output_type": "error",
          "ename": "NameError",
          "evalue": "ignored",
          "traceback": [
            "\u001b[0;31m---------------------------------------------------------------------------\u001b[0m",
            "\u001b[0;31mNameError\u001b[0m                                 Traceback (most recent call last)",
            "\u001b[0;32m<ipython-input-30-e8ea34cf8e29>\u001b[0m in \u001b[0;36m<module>\u001b[0;34m()\u001b[0m\n\u001b[1;32m      4\u001b[0m \u001b[0;34m\u001b[0m\u001b[0m\n\u001b[1;32m      5\u001b[0m \u001b[0;31m# okno = Tk()\u001b[0m\u001b[0;34m\u001b[0m\u001b[0;34m\u001b[0m\u001b[0;34m\u001b[0m\u001b[0m\n\u001b[0;32m----> 6\u001b[0;31m \u001b[0mokno\u001b[0m\u001b[0;34m.\u001b[0m\u001b[0mtitle\u001b[0m\u001b[0;34m(\u001b[0m\u001b[0;34m\"Wybierz przycisk\"\u001b[0m\u001b[0;34m)\u001b[0m\u001b[0;34m\u001b[0m\u001b[0;34m\u001b[0m\u001b[0m\n\u001b[0m\u001b[1;32m      7\u001b[0m \u001b[0mokno\u001b[0m\u001b[0;34m.\u001b[0m\u001b[0mgeometry\u001b[0m\u001b[0;34m(\u001b[0m\u001b[0;34m\"300x350\"\u001b[0m\u001b[0;34m)\u001b[0m\u001b[0;34m\u001b[0m\u001b[0;34m\u001b[0m\u001b[0m\n\u001b[1;32m      8\u001b[0m \u001b[0mliczba_przyciskow\u001b[0m \u001b[0;34m=\u001b[0m \u001b[0;36m8\u001b[0m\u001b[0;34m\u001b[0m\u001b[0;34m\u001b[0m\u001b[0m\n",
            "\u001b[0;31mNameError\u001b[0m: name 'okno' is not defined"
          ]
        }
      ]
    },
    {
      "cell_type": "code",
      "metadata": {
        "id": "h625wDyHgsMQ"
      },
      "source": [
        ""
      ],
      "execution_count": null,
      "outputs": []
    }
  ]
}